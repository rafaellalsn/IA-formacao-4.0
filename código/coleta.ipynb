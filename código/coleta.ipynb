{
  "cells": [
    {
      "cell_type": "markdown",
      "id": "56bc9814",
      "metadata": {
        "id": "56bc9814"
      },
      "source": [
        "**Aula Prática:** Coleta de dados"
      ]
    },
    {
      "cell_type": "markdown",
      "id": "fb7cbbfa",
      "metadata": {
        "id": "fb7cbbfa"
      },
      "source": [
        "##### Primeiro passo: Coletar os dados"
      ]
    },
    {
      "cell_type": "markdown",
      "id": "tXFBppQz_lXR",
      "metadata": {
        "id": "tXFBppQz_lXR"
      },
      "source": [
        "Os dados foram obtidos pela plataforma [Kaggle](https://www.kaggle.com/datasets/tawfikelmetwally/employee-dataset).\n",
        "\n",
        "Este conjunto de dados contém informações sobre funcionários de uma empresa, incluindo: Formação acadêmica, Histórico de trabalho, Dados demográficos, Fatores relacionados ao emprego.\n",
        "\n",
        "Com essa base é possível analisar fatores que influenciam a rotatividade de funcionários.\n",
        "\n",
        "Objetivo: **Classificação (predição) se um funcionário se mantém ou não no trabalho**"
      ]
    },
    {
      "cell_type": "code",
      "execution_count": null,
      "id": "OeTUmxQYAPpZ",
      "metadata": {
        "colab": {
          "base_uri": "https://localhost:8080/",
          "height": 206
        },
        "id": "OeTUmxQYAPpZ",
        "outputId": "acafc379-bc79-4bad-960d-00073c924642"
      },
      "outputs": [],
      "source": [
        "import pandas as pd\n",
        "\n",
        "# Lendo o arquivo CSV principal\n",
        "df = pd.read_csv(\"../dados/dados_origem.csv\", sep = \",\")\n",
        "\n",
        "# Visualizando as primeiras linhas\n",
        "df.head()"
      ]
    },
    {
      "cell_type": "markdown",
      "id": "Cc-P4DjI2Ye0",
      "metadata": {
        "id": "Cc-P4DjI2Ye0"
      },
      "source": [
        "Com base na descrição fornecida pelo autor, vou renomear as colunas para facilitar o entendimento."
      ]
    },
    {
      "cell_type": "markdown",
      "id": "2efb52d1",
      "metadata": {
        "id": "2efb52d1"
      },
      "source": [
        "1. Education: Formação acadêmica do funcionário\n",
        "2. Joining Year: Ano em que o funcionário entrou na empresa (tempo de serviço)\n",
        "3. City: Cidade onde o funcionário está alocado/trabalha\n",
        "4. Payment Tier: Nível salarial do funcionário\n",
        "5. Age: Idade do funcionário\n",
        "6. Gender: Gênero do funcionário\n",
        "7. Ever Benched: Indica se o funcionário já ficou sem tarefas atribuídas (\"encostado\")\n",
        "8. Experience in Current Domain: Anos de experiência no campo de atuação atual\n",
        "9. Leave or Not (Target): Indica se o funcionário deixou a empresa (1 = Sim, 0 = Não)"
      ]
    },
    {
      "cell_type": "code",
      "execution_count": null,
      "id": "9_H9aUhUNe4D",
      "metadata": {
        "colab": {
          "base_uri": "https://localhost:8080/",
          "height": 206
        },
        "id": "9_H9aUhUNe4D",
        "outputId": "a2afde7c-a140-4515-d313-5a359ce26d44"
      },
      "outputs": [],
      "source": [
        "# Dicionário de mapeamento (inglês para português simplificado)\n",
        "mapeamento_colunas = {\n",
        "    'Education': 'Formacao_Academica',\n",
        "    'JoiningYear': 'Ano_Admissao',\n",
        "    'City': 'Cidade',\n",
        "    'PaymentTier': 'Nivel_Salarial',\n",
        "    'Age': 'Idade',\n",
        "    'Gender': 'Genero',\n",
        "    'EverBenched': 'Ficou_Sem_Tarefas',\n",
        "    'ExperienceInCurrentDomain': 'Experiencia_Area',\n",
        "    'LeaveOrNot': 'Deixou_Empresa'\n",
        "}\n",
        "\n",
        "# Renomear as colunas\n",
        "df = df.rename(columns=mapeamento_colunas)\n",
        "\n",
        "# Verificar o resultado\n",
        "df.head()"
      ]
    },
    {
      "cell_type": "markdown",
      "id": "8rqTE3cOOI-x",
      "metadata": {
        "id": "8rqTE3cOOI-x"
      },
      "source": [
        "Agora 1 variável será removidas do estudo:\n",
        "- Cidade pois faremos uma análise mais simples sem considerar a cidade que o funcionário vive"
      ]
    },
    {
      "cell_type": "code",
      "execution_count": null,
      "id": "pjGXIbGsOxMl",
      "metadata": {
        "colab": {
          "base_uri": "https://localhost:8080/",
          "height": 206
        },
        "id": "pjGXIbGsOxMl",
        "outputId": "3d1979c8-fde5-4de7-8c02-1ddee3cb651d"
      },
      "outputs": [],
      "source": [
        "# REMOVER Cidade\n",
        "df = df.drop(columns=['Cidade'])\n",
        "\n",
        "# Verificar o resultado\n",
        "df.head()"
      ]
    },
    {
      "cell_type": "markdown",
      "id": "vBPr-OTRPI5f",
      "metadata": {
        "id": "vBPr-OTRPI5f"
      },
      "source": [
        "##### Segundo passo: Fazer algumas análises"
      ]
    },
    {
      "cell_type": "markdown",
      "id": "EJO0xiLYS39E",
      "metadata": {
        "id": "EJO0xiLYS39E"
      },
      "source": [
        "Existe dados faltantes na minha base de dados?"
      ]
    },
    {
      "cell_type": "code",
      "execution_count": null,
      "id": "eSRPueu6TGnk",
      "metadata": {
        "colab": {
          "base_uri": "https://localhost:8080/"
        },
        "id": "eSRPueu6TGnk",
        "outputId": "86101000-6d45-456c-fd26-49eb1819f59a"
      },
      "outputs": [],
      "source": [
        "dados_faltantes = df.isna().sum()\n",
        "\n",
        "# Mostrar o resultado\n",
        "print(\"Dados faltantes por coluna:\")\n",
        "print(dados_faltantes)"
      ]
    },
    {
      "cell_type": "code",
      "execution_count": null,
      "id": "70uAoP4gTYWl",
      "metadata": {
        "colab": {
          "base_uri": "https://localhost:8080/"
        },
        "id": "70uAoP4gTYWl",
        "outputId": "868bd4e5-5d53-493b-ab9f-94fc3e5390af"
      },
      "outputs": [],
      "source": [
        "# Também podemos verificar o tipo de dado de cada coluna\n",
        "df.info()"
      ]
    },
    {
      "cell_type": "markdown",
      "id": "SuQFkjc9Pgka",
      "metadata": {
        "id": "SuQFkjc9Pgka"
      },
      "source": [
        "Quaal a quantidade de funcionários que deixou a empresa (variável resposta)?"
      ]
    },
    {
      "cell_type": "code",
      "execution_count": null,
      "id": "XJeBxJMgPh5B",
      "metadata": {
        "colab": {
          "base_uri": "https://localhost:8080/",
          "height": 178
        },
        "id": "XJeBxJMgPh5B",
        "outputId": "80d4aef2-c0db-4e62-edab-ed0d3d3f6863"
      },
      "outputs": [],
      "source": [
        "df['Deixou_Empresa'].value_counts()"
      ]
    },
    {
      "cell_type": "markdown",
      "id": "x_XXXMbfQHbV",
      "metadata": {
        "id": "x_XXXMbfQHbV"
      },
      "source": [
        "Qual a distribuição de funcionários por formação acadêmica?"
      ]
    },
    {
      "cell_type": "code",
      "execution_count": null,
      "id": "rKNjS-9VQO19",
      "metadata": {
        "colab": {
          "base_uri": "https://localhost:8080/",
          "height": 209
        },
        "id": "rKNjS-9VQO19",
        "outputId": "47077672-fd87-450f-9d3f-273ea4ee3706"
      },
      "outputs": [],
      "source": [
        "df['Formacao_Academica'].value_counts()"
      ]
    },
    {
      "cell_type": "code",
      "execution_count": null,
      "id": "ea26ca3f",
      "metadata": {},
      "outputs": [],
      "source": [
        "df['Genero'].value_counts()"
      ]
    },
    {
      "cell_type": "code",
      "execution_count": null,
      "id": "12009b3c",
      "metadata": {},
      "outputs": [],
      "source": [
        "df['Nivel_Salarial'].value_counts()"
      ]
    },
    {
      "cell_type": "code",
      "execution_count": null,
      "id": "d2430e74",
      "metadata": {},
      "outputs": [],
      "source": [
        "df['Experiencia_Area'].value_counts()"
      ]
    },
    {
      "cell_type": "markdown",
      "id": "xtCyWqXbQd6W",
      "metadata": {
        "id": "xtCyWqXbQd6W"
      },
      "source": [
        "Qual a  média de idade por formação acadêmica?"
      ]
    },
    {
      "cell_type": "code",
      "execution_count": null,
      "id": "ncDsGlYEQk69",
      "metadata": {
        "colab": {
          "base_uri": "https://localhost:8080/"
        },
        "id": "ncDsGlYEQk69",
        "outputId": "f8df541b-6e88-4f29-c118-ea2f845e0af6"
      },
      "outputs": [],
      "source": [
        "# Calcular a média de idade por formação\n",
        "media_idade = df.groupby('Formacao_Academica')['Idade'].mean().reset_index()\n",
        "\n",
        "# Formatando a saída (opcional)\n",
        "media_idade.columns = ['Formação Acadêmica', 'Idade']\n",
        "print(media_idade)"
      ]
    },
    {
      "cell_type": "markdown",
      "id": "kuBvJcrzRS7W",
      "metadata": {
        "id": "kuBvJcrzRS7W"
      },
      "source": [
        "Se quiser gerar uma análise gráfica dessas informações:"
      ]
    },
    {
      "cell_type": "code",
      "execution_count": null,
      "id": "Gna_E7LqRYMQ",
      "metadata": {
        "colab": {
          "base_uri": "https://localhost:8080/",
          "height": 306
        },
        "id": "Gna_E7LqRYMQ",
        "outputId": "cded034c-671f-4390-f6d6-d38fe7a916c9"
      },
      "outputs": [],
      "source": [
        "# Importar biblioteca de visualização de dados\n",
        "import matplotlib.pyplot as plt\n",
        "\n",
        "# Contar a quantidade de funcionários por situação (deixou a empresa)\n",
        "contagem_funcionario = df['Deixou_Empresa'].value_counts()\n",
        "\n",
        "# Criar o gráfico de barras\n",
        "plt.figure(figsize=(5, 3))\n",
        "contagem_funcionario.plot(kind='bar', color='purple')\n",
        "plt.show()"
      ]
    },
    {
      "cell_type": "markdown",
      "id": "xAml5qReTuTG",
      "metadata": {
        "id": "xAml5qReTuTG"
      },
      "source": [
        "**Muito Importante**! Algumas variáveis são do tipo \"object\". Precisaremos fazer uma transformação para a representação numérica antes de executar uma técnica de Aprendizado de Máquina"
      ]
    },
    {
      "cell_type": "code",
      "execution_count": null,
      "id": "Q8wAqTsiUphO",
      "metadata": {
        "colab": {
          "base_uri": "https://localhost:8080/"
        },
        "id": "Q8wAqTsiUphO",
        "outputId": "5f6376c5-d512-4daa-f23c-31dd1fbf2c10"
      },
      "outputs": [],
      "source": [
        "# Importar método de transformar automaticamento\n",
        "from sklearn.preprocessing import LabelEncoder\n",
        "\n",
        "encoder = LabelEncoder()\n",
        "df['Formacao_Academica'] = encoder.fit_transform(df['Formacao_Academica'])\n",
        "\n",
        "#Exemplo de como recuperar o mapeamento feito pelo método LabelEncoder()\n",
        "mapeamento_formacao = dict(zip(encoder.classes_, encoder.transform(encoder.classes_)))\n",
        "print(\"Mapeamento para 'Formação Academica':\", mapeamento_formacao)"
      ]
    },
    {
      "cell_type": "code",
      "execution_count": null,
      "id": "LIivsA4tWi3u",
      "metadata": {
        "id": "LIivsA4tWi3u"
      },
      "outputs": [],
      "source": [
        "df['Genero'] = encoder.fit_transform(df['Genero'])"
      ]
    },
    {
      "cell_type": "code",
      "execution_count": null,
      "id": "pzA_Z_mlW1Nz",
      "metadata": {
        "id": "pzA_Z_mlW1Nz"
      },
      "outputs": [],
      "source": [
        "df['Ficou_Sem_Tarefas'] = encoder.fit_transform(df['Ficou_Sem_Tarefas'])"
      ]
    },
    {
      "cell_type": "code",
      "execution_count": null,
      "id": "iUAmnYKQW5Ho",
      "metadata": {
        "colab": {
          "base_uri": "https://localhost:8080/",
          "height": 206
        },
        "id": "iUAmnYKQW5Ho",
        "outputId": "49054fda-6f21-4d18-c075-2ea2a065e554"
      },
      "outputs": [],
      "source": [
        "df.head()"
      ]
    },
    {
      "cell_type": "code",
      "execution_count": null,
      "id": "_Yg_mDeUXOdc",
      "metadata": {
        "id": "_Yg_mDeUXOdc"
      },
      "outputs": [],
      "source": [
        "# Verificar se todas as variáveis são numéricas\n",
        "df.dtypes"
      ]
    },
    {
      "cell_type": "markdown",
      "id": "CjCf_MBmXz_P",
      "metadata": {
        "id": "CjCf_MBmXz_P"
      },
      "source": [
        "Agora vamos salvar a nossa base de dados limpa:"
      ]
    },
    {
      "cell_type": "code",
      "execution_count": null,
      "id": "UnM3Gh0pX6md",
      "metadata": {
        "id": "UnM3Gh0pX6md"
      },
      "outputs": [],
      "source": [
        "#Salvar o DataFrame transformado em um arquivo CSV\n",
        "\n",
        "caminho_arquivo = '../dados/dados_transformados.csv'\n",
        "df.to_csv(caminho_arquivo, index=False, encoding='utf-8-sig')\n",
        "\n",
        "print(f\"DataFrame salvo com sucesso em: {caminho_arquivo}\")"
      ]
    }
  ],
  "metadata": {
    "colab": {
      "provenance": []
    },
    "kernelspec": {
      "display_name": "base",
      "language": "python",
      "name": "python3"
    },
    "language_info": {
      "codemirror_mode": {
        "name": "ipython",
        "version": 3
      },
      "file_extension": ".py",
      "mimetype": "text/x-python",
      "name": "python",
      "nbconvert_exporter": "python",
      "pygments_lexer": "ipython3",
      "version": "3.12.7"
    }
  },
  "nbformat": 4,
  "nbformat_minor": 5
}
