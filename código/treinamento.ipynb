{
 "cells": [
  {
   "cell_type": "code",
   "execution_count": null,
   "id": "ff78314d",
   "metadata": {
    "execution": {
     "iopub.execute_input": "2023-10-23T20:27:33.799499Z",
     "iopub.status.busy": "2023-10-23T20:27:33.798372Z",
     "iopub.status.idle": "2023-10-23T20:27:35.512110Z",
     "shell.execute_reply": "2023-10-23T20:27:35.510865Z"
    },
    "papermill": {
     "duration": 1.732734,
     "end_time": "2023-10-23T20:27:35.515424",
     "exception": false,
     "start_time": "2023-10-23T20:27:33.782690",
     "status": "completed"
    },
    "tags": []
   },
   "outputs": [],
   "source": [
    "import pandas as pd #bibliotecapara manipulação de dados\n",
    "import numpy as np  #biblioteca quer ajuda em cálculos"
   ]
  },
  {
   "cell_type": "code",
   "execution_count": null,
   "id": "38523848",
   "metadata": {
    "execution": {
     "iopub.execute_input": "2023-10-23T20:27:35.571256Z",
     "iopub.status.busy": "2023-10-23T20:27:35.570492Z",
     "iopub.status.idle": "2023-10-23T20:27:35.603534Z",
     "shell.execute_reply": "2023-10-23T20:27:35.602173Z"
    },
    "papermill": {
     "duration": 0.051029,
     "end_time": "2023-10-23T20:27:35.606538",
     "exception": false,
     "start_time": "2023-10-23T20:27:35.555509",
     "status": "completed"
    },
    "tags": []
   },
   "outputs": [],
   "source": [
    "#Leitura da base de dados tratada/limpa\n",
    "df = pd.read_csv(\"../dados/dados_transformados.csv\")"
   ]
  },
  {
   "cell_type": "code",
   "execution_count": null,
   "id": "d823ecd4",
   "metadata": {
    "execution": {
     "iopub.execute_input": "2023-10-23T20:27:35.689302Z",
     "iopub.status.busy": "2023-10-23T20:27:35.688741Z",
     "iopub.status.idle": "2023-10-23T20:27:35.714073Z",
     "shell.execute_reply": "2023-10-23T20:27:35.713254Z"
    },
    "papermill": {
     "duration": 0.042444,
     "end_time": "2023-10-23T20:27:35.716246",
     "exception": false,
     "start_time": "2023-10-23T20:27:35.673802",
     "status": "completed"
    },
    "tags": []
   },
   "outputs": [],
   "source": [
    "df.head()"
   ]
  },
  {
   "cell_type": "markdown",
   "id": "65a4c78c",
   "metadata": {
    "papermill": {
     "duration": 0.014419,
     "end_time": "2023-10-23T20:27:36.489805",
     "exception": false,
     "start_time": "2023-10-23T20:27:36.475386",
     "status": "completed"
    },
    "tags": []
   },
   "source": [
    "Defina as variáveis explicativas (X = características) e a variável resposta (y = rótulo)"
   ]
  },
  {
   "cell_type": "code",
   "execution_count": null,
   "id": "ce435434",
   "metadata": {
    "execution": {
     "iopub.execute_input": "2023-10-23T20:27:36.533148Z",
     "iopub.status.busy": "2023-10-23T20:27:36.532329Z",
     "iopub.status.idle": "2023-10-23T20:27:36.540592Z",
     "shell.execute_reply": "2023-10-23T20:27:36.539791Z"
    },
    "papermill": {
     "duration": 0.038345,
     "end_time": "2023-10-23T20:27:36.543061",
     "exception": false,
     "start_time": "2023-10-23T20:27:36.504716",
     "status": "completed"
    },
    "tags": []
   },
   "outputs": [],
   "source": [
    "X = df.drop('Deixou_Empresa', axis=1)\n",
    "y = df['Deixou_Empresa']"
   ]
  },
  {
   "cell_type": "markdown",
   "id": "b2905534",
   "metadata": {
    "papermill": {
     "duration": 0.015533,
     "end_time": "2023-10-23T20:27:37.849382",
     "exception": false,
     "start_time": "2023-10-23T20:27:37.833849",
     "status": "completed"
    },
    "tags": []
   },
   "source": [
    "Separar a base em DADOS DE TREINO e DADOS DE TESTE"
   ]
  },
  {
   "cell_type": "code",
   "execution_count": null,
   "id": "6ef17b73",
   "metadata": {
    "execution": {
     "iopub.execute_input": "2023-10-23T20:27:37.883006Z",
     "iopub.status.busy": "2023-10-23T20:27:37.882525Z",
     "iopub.status.idle": "2023-10-23T20:27:37.993125Z",
     "shell.execute_reply": "2023-10-23T20:27:37.991712Z"
    },
    "papermill": {
     "duration": 0.131703,
     "end_time": "2023-10-23T20:27:37.996742",
     "exception": false,
     "start_time": "2023-10-23T20:27:37.865039",
     "status": "completed"
    },
    "tags": []
   },
   "outputs": [],
   "source": [
    "# Importar Método para Separar os dados em treino e teste\n",
    "from sklearn.model_selection import train_test_split"
   ]
  },
  {
   "cell_type": "code",
   "execution_count": null,
   "id": "2b3d1188",
   "metadata": {
    "execution": {
     "iopub.execute_input": "2023-10-23T20:27:38.033817Z",
     "iopub.status.busy": "2023-10-23T20:27:38.032508Z",
     "iopub.status.idle": "2023-10-23T20:27:38.042440Z",
     "shell.execute_reply": "2023-10-23T20:27:38.041206Z"
    },
    "papermill": {
     "duration": 0.030645,
     "end_time": "2023-10-23T20:27:38.045095",
     "exception": false,
     "start_time": "2023-10-23T20:27:38.014450",
     "status": "completed"
    },
    "tags": []
   },
   "outputs": [],
   "source": [
    "# Aui estamos definindo 20% dos dados para teste e  80% para treino\n",
    "X_train, X_test, y_train, y_test = train_test_split(X, y, test_size=0.2, random_state=42)"
   ]
  },
  {
   "cell_type": "code",
   "execution_count": null,
   "id": "df1f3468",
   "metadata": {},
   "outputs": [],
   "source": [
    "print(X_train.shape)\n",
    "print(X_test.shape)\n",
    "print(y_train.shape)\n",
    "print(y_test.shape)"
   ]
  },
  {
   "cell_type": "markdown",
   "id": "bed0217b",
   "metadata": {
    "papermill": {
     "duration": 0.016105,
     "end_time": "2023-10-23T20:27:38.077289",
     "exception": false,
     "start_time": "2023-10-23T20:27:38.061184",
     "status": "completed"
    },
    "tags": []
   },
   "source": [
    "Construir Modelo de Classificação"
   ]
  },
  {
   "cell_type": "code",
   "execution_count": null,
   "id": "0ce33ec8",
   "metadata": {
    "execution": {
     "iopub.execute_input": "2023-10-23T20:27:38.143631Z",
     "iopub.status.busy": "2023-10-23T20:27:38.142504Z",
     "iopub.status.idle": "2023-10-23T20:27:38.877328Z",
     "shell.execute_reply": "2023-10-23T20:27:38.876133Z"
    },
    "papermill": {
     "duration": 0.755801,
     "end_time": "2023-10-23T20:27:38.880626",
     "exception": false,
     "start_time": "2023-10-23T20:27:38.124825",
     "status": "completed"
    },
    "tags": []
   },
   "outputs": [],
   "source": [
    "from sklearn.ensemble import RandomForestClassifier  #técnica de aprendizado de máquina 1\n",
    "from sklearn.svm import SVC #técnica de aprendizado de máquina 2 \n",
    "\n",
    "modelo_1 = RandomForestClassifier(n_estimators=500, random_state=42)\n",
    "modelo_2 = SVC()"
   ]
  },
  {
   "cell_type": "code",
   "execution_count": null,
   "id": "a55c2423",
   "metadata": {
    "execution": {
     "iopub.execute_input": "2023-10-23T20:27:38.974248Z",
     "iopub.status.busy": "2023-10-23T20:27:38.973082Z",
     "iopub.status.idle": "2023-10-23T20:27:39.452742Z",
     "shell.execute_reply": "2023-10-23T20:27:39.451569Z"
    },
    "papermill": {
     "duration": 0.509476,
     "end_time": "2023-10-23T20:27:39.456366",
     "exception": false,
     "start_time": "2023-10-23T20:27:38.946890",
     "status": "completed"
    },
    "tags": []
   },
   "outputs": [],
   "source": [
    "modelo_1.fit(X_train, y_train)\n",
    "\n",
    "modelo_2.fit(X_train, y_train)"
   ]
  },
  {
   "cell_type": "code",
   "execution_count": null,
   "id": "4128448a",
   "metadata": {
    "execution": {
     "iopub.execute_input": "2023-10-23T20:27:39.504396Z",
     "iopub.status.busy": "2023-10-23T20:27:39.503889Z",
     "iopub.status.idle": "2023-10-23T20:27:39.541879Z",
     "shell.execute_reply": "2023-10-23T20:27:39.540067Z"
    },
    "papermill": {
     "duration": 0.067666,
     "end_time": "2023-10-23T20:27:39.544912",
     "exception": false,
     "start_time": "2023-10-23T20:27:39.477246",
     "status": "completed"
    },
    "tags": []
   },
   "outputs": [],
   "source": [
    "# Fazer predições na base de teste\n",
    "\n",
    "y_pred1 = modelo_1.predict(X_test)\n",
    "y_pred2 = modelo_2.predict(X_test)\n"
   ]
  },
  {
   "cell_type": "code",
   "execution_count": null,
   "id": "8cedfd6a",
   "metadata": {},
   "outputs": [],
   "source": [
    "y_pred1"
   ]
  },
  {
   "cell_type": "markdown",
   "id": "692ae25d",
   "metadata": {
    "papermill": {
     "duration": 0.016993,
     "end_time": "2023-10-23T20:27:39.612785",
     "exception": false,
     "start_time": "2023-10-23T20:27:39.595792",
     "status": "completed"
    },
    "tags": []
   },
   "source": [
    "Avaliação dos modelos:"
   ]
  },
  {
   "cell_type": "code",
   "execution_count": null,
   "id": "499a3c3f",
   "metadata": {
    "execution": {
     "iopub.execute_input": "2023-10-23T20:27:39.650703Z",
     "iopub.status.busy": "2023-10-23T20:27:39.649818Z",
     "iopub.status.idle": "2023-10-23T20:27:39.654576Z",
     "shell.execute_reply": "2023-10-23T20:27:39.653689Z"
    },
    "papermill": {
     "duration": 0.026639,
     "end_time": "2023-10-23T20:27:39.656758",
     "exception": false,
     "start_time": "2023-10-23T20:27:39.630119",
     "status": "completed"
    },
    "tags": []
   },
   "outputs": [],
   "source": [
    "# Importando o método da Acurácia (Taxa de Acerto)\n",
    "from sklearn.metrics import accuracy_score"
   ]
  },
  {
   "cell_type": "code",
   "execution_count": null,
   "id": "b7db0dfd",
   "metadata": {
    "execution": {
     "iopub.execute_input": "2023-10-23T20:27:39.693823Z",
     "iopub.status.busy": "2023-10-23T20:27:39.692921Z",
     "iopub.status.idle": "2023-10-23T20:27:39.700549Z",
     "shell.execute_reply": "2023-10-23T20:27:39.699176Z"
    },
    "papermill": {
     "duration": 0.029922,
     "end_time": "2023-10-23T20:27:39.703674",
     "exception": false,
     "start_time": "2023-10-23T20:27:39.673752",
     "status": "completed"
    },
    "tags": []
   },
   "outputs": [],
   "source": [
    "acuracia1 = accuracy_score(y_test, y_pred1)\n",
    "acuracia2 = accuracy_score(y_test, y_pred2)\n",
    "\n",
    "print(f\"Acuracia Modelo 1: {acuracia1 * 100:.2f}%\")\n",
    "print(f\"Acuracia Modelo 2: {acuracia2 * 100:.2f}%\")"
   ]
  },
  {
   "cell_type": "markdown",
   "id": "fb744465",
   "metadata": {},
   "source": [
    "Com base desses resultados, qual modelo obteve melhor desempenho? (maior acurácia)"
   ]
  },
  {
   "cell_type": "markdown",
   "id": "3bfef62b",
   "metadata": {},
   "source": [
    "Agora faremos uma análise de desempenho a partir de várias execuções dos modelos, para verificar estabilidade:"
   ]
  },
  {
   "cell_type": "code",
   "execution_count": null,
   "id": "994c9f2e",
   "metadata": {},
   "outputs": [],
   "source": [
    "acuracia_modelo1 = []\n",
    "acuracia_modelo2 = []\n",
    "\n",
    "for i in range(30):\n",
    "    X_train, X_test, y_train, y_test = train_test_split(X, y, test_size=0.2)\n",
    "\n",
    "    modelo_1 = RandomForestClassifier(n_estimators=500, random_state=42)\n",
    "    modelo_2 = SVC(kernel='linear', random_state=42)\n",
    "\n",
    "    modelo_1.fit(X_train, y_train)\n",
    "    modelo_2.fit(X_train, y_train)\n",
    "\n",
    "    y_pred1 = modelo_1.predict(X_test)\n",
    "    y_pred2 = modelo_2.predict(X_test)\n",
    "\n",
    "    acuracia1 = accuracy_score(y_test, y_pred1)\n",
    "    acuracia2 = accuracy_score(y_test, y_pred2)\n",
    "\n",
    "    acuracia_modelo1.append(acuracia1)\n",
    "    acuracia_modelo2.append(acuracia2)"
   ]
  },
  {
   "cell_type": "code",
   "execution_count": null,
   "id": "6db665b9",
   "metadata": {},
   "outputs": [],
   "source": [
    "acuracia_modelo2"
   ]
  },
  {
   "cell_type": "code",
   "execution_count": null,
   "id": "8fca1616",
   "metadata": {},
   "outputs": [],
   "source": [
    "print(np.mean(acuracia_modelo1))\n",
    "print(np.mean(acuracia_modelo2))"
   ]
  },
  {
   "cell_type": "markdown",
   "id": "c6b812c9",
   "metadata": {},
   "source": [
    "Verificamos que em média  o modelo 1 possui melhor desempenho (maior taxa de acerto), então iremos explortar (salvar) esse modelo para criar nosso sistema preditivo."
   ]
  },
  {
   "cell_type": "code",
   "execution_count": null,
   "id": "1cdab78c",
   "metadata": {},
   "outputs": [],
   "source": [
    "import pickle\n",
    "\n",
    "# Salvar o modelo em um arquivo .pkl\n",
    "with open('../modelo/modelo_treinado.pkl', 'wb') as arquivo:  \n",
    "    pickle.dump(modelo_1, arquivo)\n",
    "\n",
    "print(\"Modelo salvo com sucesso!\")"
   ]
  }
 ],
 "metadata": {
  "kernelspec": {
   "display_name": "base",
   "language": "python",
   "name": "python3"
  },
  "language_info": {
   "codemirror_mode": {
    "name": "ipython",
    "version": 3
   },
   "file_extension": ".py",
   "mimetype": "text/x-python",
   "name": "python",
   "nbconvert_exporter": "python",
   "pygments_lexer": "ipython3",
   "version": "3.12.7"
  },
  "papermill": {
   "default_parameters": {},
   "duration": 11.805006,
   "end_time": "2023-10-23T20:27:41.247179",
   "environment_variables": {},
   "exception": null,
   "input_path": "__notebook__.ipynb",
   "output_path": "__notebook__.ipynb",
   "parameters": {},
   "start_time": "2023-10-23T20:27:29.442173",
   "version": "2.4.0"
  }
 },
 "nbformat": 4,
 "nbformat_minor": 5
}
